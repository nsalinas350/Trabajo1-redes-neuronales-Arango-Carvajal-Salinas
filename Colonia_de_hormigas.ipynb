{
  "cells": [
    {
      "cell_type": "markdown",
      "id": "a759ecc7-c7d6-4092-82d1-7ab82857782c",
      "metadata": {
        "id": "a759ecc7-c7d6-4092-82d1-7ab82857782c"
      },
      "source": [
        "# Trabajo 01: Optimización heurística\n",
        "\n",
        "Parte 2: optimización combinatoria"
      ]
    },
    {
      "cell_type": "markdown",
      "id": "b9243112-2ef1-486d-a539-b1899560f297",
      "metadata": {
        "id": "b9243112-2ef1-486d-a539-b1899560f297"
      },
      "source": [
        "Código tomado de [Ant Colony Optimization](https://github.com/johnberroa/Ant-Colony-Optimization/blob/master/AntColonyOptimizer.py). Todos los créditos son de [Jerzy Pawlikowski](https://github.com/jerzypawlikowski)."
      ]
    },
    {
      "cell_type": "code",
      "execution_count": null,
      "id": "7d650f69-d36c-4722-b9bd-bca914f29899",
      "metadata": {
        "id": "7d650f69-d36c-4722-b9bd-bca914f29899"
      },
      "outputs": [],
      "source": [
        "import numpy as np\n",
        "import matplotlib.pyplot as plt\n",
        "import time\n",
        "\n",
        "import warnings\n",
        "\n",
        "warnings.filterwarnings(\"ignore\")\n",
        "\n",
        "\n",
        "class AntColonyOptimizer:\n",
        "    def __init__(self, ants, evaporation_rate, intensification, alpha=1.0, beta=0.0, beta_evaporation_rate=0,\n",
        "                 choose_best=.1):\n",
        "        \"\"\"\n",
        "        Ant colony optimizer.  Traverses a graph and finds either the max or min distance between nodes.\n",
        "        :param ants: number of ants to traverse the graph\n",
        "        :param evaporation_rate: rate at which pheromone evaporates\n",
        "        :param intensification: constant added to the best path\n",
        "        :param alpha: weighting of pheromone\n",
        "        :param beta: weighting of heuristic (1/distance)\n",
        "        :param beta_evaporation_rate: rate at which beta decays (optional)\n",
        "        :param choose_best: probability to choose the best route\n",
        "        \"\"\"\n",
        "        # Parameters\n",
        "        self.ants = ants\n",
        "        self.evaporation_rate = evaporation_rate\n",
        "        self.pheromone_intensification = intensification\n",
        "        self.heuristic_alpha = alpha\n",
        "        self.heuristic_beta = beta\n",
        "        self.beta_evaporation_rate = beta_evaporation_rate\n",
        "        self.choose_best = choose_best\n",
        "\n",
        "        # Internal representations\n",
        "        self.pheromone_matrix = None\n",
        "        self.heuristic_matrix = None\n",
        "        self.probability_matrix = None\n",
        "\n",
        "        self.map = None\n",
        "        self.set_of_available_nodes = None\n",
        "\n",
        "        # Internal stats\n",
        "        self.best_series = []\n",
        "        self.best = None\n",
        "        self.fitted = False\n",
        "        self.best_path = None\n",
        "        self.fit_time = None\n",
        "\n",
        "        # Plotting values\n",
        "        self.stopped_early = False\n",
        "\n",
        "    def __str__(self):\n",
        "        string = \"Ant Colony Optimizer\"\n",
        "        string += \"\\n--------------------\"\n",
        "        string += \"\\nDesigned to optimize either the minimum or maximum distance between nodes in a square matrix that behaves like a distance matrix.\"\n",
        "        string += \"\\n--------------------\"\n",
        "        string += \"\\nNumber of ants:\\t\\t\\t\\t{}\".format(self.ants)\n",
        "        string += \"\\nEvaporation rate:\\t\\t\\t{}\".format(self.evaporation_rate)\n",
        "        string += \"\\nIntensification factor:\\t\\t{}\".format(self.pheromone_intensification)\n",
        "        string += \"\\nAlpha Heuristic:\\t\\t\\t{}\".format(self.heuristic_alpha)\n",
        "        string += \"\\nBeta Heuristic:\\t\\t\\t\\t{}\".format(self.heuristic_beta)\n",
        "        string += \"\\nBeta Evaporation Rate:\\t\\t{}\".format(self.beta_evaporation_rate)\n",
        "        string += \"\\nChoose Best Percentage:\\t\\t{}\".format(self.choose_best)\n",
        "        string += \"\\n--------------------\"\n",
        "        string += \"\\nUSAGE:\"\n",
        "        string += \"\\nNumber of ants influences how many paths are explored each iteration.\"\n",
        "        string += \"\\nThe alpha and beta heuristics affect how much influence the pheromones or the distance heuristic weigh an ants' decisions.\"\n",
        "        string += \"\\nBeta evaporation reduces the influence of the heuristic over time.\"\n",
        "        string += \"\\nChoose best is a percentage of how often an ant will choose the best route over probabilistically choosing a route based on pheromones.\"\n",
        "        string += \"\\n--------------------\"\n",
        "        if self.fitted:\n",
        "            string += \"\\n\\nThis optimizer has been fitted.\"\n",
        "        else:\n",
        "            string += \"\\n\\nThis optimizer has NOT been fitted.\"\n",
        "        return string\n",
        "\n",
        "    def _initialize(self):\n",
        "        \"\"\"\n",
        "        Initializes the model by creating the various matrices and generating the list of available nodes\n",
        "        \"\"\"\n",
        "        assert self.map.shape[0] == self.map.shape[1], \"Map is not a distance matrix!\"\n",
        "        num_nodes = self.map.shape[0]\n",
        "        self.pheromone_matrix = np.ones((num_nodes, num_nodes))\n",
        "        # Remove the diagonal since there is no pheromone from node i to itself\n",
        "        self.pheromone_matrix[np.eye(num_nodes) == 1] = 0\n",
        "        self.heuristic_matrix = 1 / self.map\n",
        "        self.probability_matrix = (self.pheromone_matrix ** self.heuristic_alpha) * (\n",
        "                self.heuristic_matrix ** self.heuristic_beta)  # element by element multiplcation\n",
        "        self.set_of_available_nodes = list(range(num_nodes))\n",
        "\n",
        "    def _reinstate_nodes(self):\n",
        "        \"\"\"\n",
        "        Resets available nodes to all nodes for the next iteration\n",
        "        \"\"\"\n",
        "        self.set_of_available_nodes = list(range(self.map.shape[0]))\n",
        "\n",
        "    def _update_probabilities(self):\n",
        "        \"\"\"\n",
        "        After evaporation and intensification, the probability matrix needs to be updated.  This function\n",
        "        does that.\n",
        "        \"\"\"\n",
        "        self.probability_matrix = (self.pheromone_matrix ** self.heuristic_alpha) * (\n",
        "                self.heuristic_matrix ** self.heuristic_beta)\n",
        "\n",
        "    def _choose_next_node(self, from_node):\n",
        "        \"\"\"\n",
        "        Chooses the next node based on probabilities.  If p < p_choose_best, then the best path is chosen, otherwise\n",
        "        it is selected from a probability distribution weighted by the pheromone.\n",
        "        :param from_node: the node the ant is coming from\n",
        "        :return: index of the node the ant is going to\n",
        "        \"\"\"\n",
        "        numerator = self.probability_matrix[from_node, self.set_of_available_nodes]\n",
        "        if np.random.random() < self.choose_best:\n",
        "            next_node = np.argmax(numerator)\n",
        "        else:\n",
        "            denominator = np.sum(numerator)\n",
        "            probabilities = numerator / denominator\n",
        "            next_node = np.random.choice(range(len(probabilities)), p=probabilities)\n",
        "        return next_node\n",
        "\n",
        "    def _remove_node(self, node):\n",
        "        self.set_of_available_nodes.remove(node)\n",
        "\n",
        "    def _evaluate(self, paths, mode):\n",
        "        \"\"\"\n",
        "        Evaluates the solutions of the ants by adding up the distances between nodes.\n",
        "        :param paths: solutions from the ants\n",
        "        :param mode: max or min\n",
        "        :return: x and y coordinates of the best path as a tuple, the best path, and the best score\n",
        "        \"\"\"\n",
        "        scores = np.zeros(len(paths))\n",
        "        coordinates_i = []\n",
        "        coordinates_j = []\n",
        "        for index, path in enumerate(paths):\n",
        "            score = 0\n",
        "            coords_i = []\n",
        "            coords_j = []\n",
        "            for i in range(len(path) - 1):\n",
        "                coords_i.append(path[i])\n",
        "                coords_j.append(path[i + 1])\n",
        "                score += self.map[path[i], path[i + 1]]\n",
        "            scores[index] = score\n",
        "            coordinates_i.append(coords_i)\n",
        "            coordinates_j.append(coords_j)\n",
        "        if mode == 'min':\n",
        "            best = np.argmin(scores)\n",
        "        elif mode == 'max':\n",
        "            best = np.argmax(scores)\n",
        "        return (coordinates_i[best], coordinates_j[best]), paths[best], scores[best]\n",
        "\n",
        "    def _evaporation(self):\n",
        "        \"\"\"\n",
        "        Evaporate some pheromone as the inverse of the evaporation rate.  Also evaporates beta if desired.\n",
        "        \"\"\"\n",
        "        self.pheromone_matrix *= (1 - self.evaporation_rate)\n",
        "        self.heuristic_beta *= (1 - self.beta_evaporation_rate)\n",
        "\n",
        "    def _intensify(self, best_coords):\n",
        "        \"\"\"\n",
        "        Increases the pheromone by some scalar for the best route.\n",
        "        :param best_coords: x and y (i and j) coordinates of the best route\n",
        "        \"\"\"\n",
        "        i = best_coords[0]\n",
        "        j = best_coords[1]\n",
        "        self.pheromone_matrix[i, j] += self.pheromone_intensification\n",
        "\n",
        "    def fit(self, map_matrix, iterations=100, mode='min', early_stopping_count=20, verbose=True):\n",
        "        \"\"\"\n",
        "        Fits the ACO to a specific map.  This was designed with the Traveling Salesman problem in mind.\n",
        "        :param map_matrix: Distance matrix or some other matrix with similar properties\n",
        "        :param iterations: number of iterations\n",
        "        :param mode: whether to get the minimum path or maximum path\n",
        "        :param early_stopping_count: how many iterations of the same score to make the algorithm stop early\n",
        "        :return: the best score\n",
        "        \"\"\"\n",
        "        if verbose: print(\"Beginning ACO Optimization with {} iterations...\".format(iterations))\n",
        "        self.map = map_matrix\n",
        "        start = time.time()\n",
        "        self._initialize()\n",
        "        num_equal = 0\n",
        "\n",
        "        for i in range(iterations):\n",
        "            start_iter = time.time()\n",
        "            paths = []\n",
        "            path = []\n",
        "\n",
        "            for ant in range(self.ants):\n",
        "                current_node = self.set_of_available_nodes[np.random.randint(0, len(self.set_of_available_nodes))]\n",
        "                start_node = current_node\n",
        "                while True:\n",
        "                    path.append(current_node)\n",
        "                    self._remove_node(current_node)\n",
        "                    if len(self.set_of_available_nodes) != 0:\n",
        "                        current_node_index = self._choose_next_node(current_node)\n",
        "                        current_node = self.set_of_available_nodes[current_node_index]\n",
        "                    else:\n",
        "                        break\n",
        "\n",
        "                path.append(start_node)  # go back to start\n",
        "                self._reinstate_nodes()\n",
        "                paths.append(path)\n",
        "                path = []\n",
        "\n",
        "            best_path_coords, best_path, best_score = self._evaluate(paths, mode)\n",
        "\n",
        "            if i == 0:\n",
        "                best_score_so_far = best_score\n",
        "            else:\n",
        "                if mode == 'min':\n",
        "                    if best_score < best_score_so_far:\n",
        "                        best_score_so_far = best_score\n",
        "                        self.best_path = best_path\n",
        "                elif mode == 'max':\n",
        "                    if best_score > best_score_so_far:\n",
        "                        best_score_so_far = best_score\n",
        "                        self.best_path = best_path\n",
        "\n",
        "            if best_score == best_score_so_far:\n",
        "                num_equal += 1\n",
        "            else:\n",
        "                num_equal = 0\n",
        "\n",
        "            self.best_series.append(best_score)\n",
        "            self._evaporation()\n",
        "            self._intensify(best_path_coords)\n",
        "            self._update_probabilities()\n",
        "\n",
        "            if verbose: print(\"Best score at iteration {}: {}; overall: {} ({}s)\"\n",
        "                              \"\".format(i, round(best_score, 2), round(best_score_so_far, 2),\n",
        "                                        round(time.time() - start_iter)))\n",
        "\n",
        "            if best_score == best_score_so_far and num_equal == early_stopping_count:\n",
        "                self.stopped_early = True\n",
        "                print(\"Stopping early due to {} iterations of the same score.\".format(early_stopping_count))\n",
        "                break\n",
        "\n",
        "        self.fit_time = round(time.time() - start)\n",
        "        self.fitted = True\n",
        "\n",
        "        if mode == 'min':\n",
        "            self.best = self.best_series[np.argmin(self.best_series)]\n",
        "            if verbose: print(\n",
        "                \"ACO fitted.  Runtime: {} minutes.  Best score: {}\".format(self.fit_time // 60, self.best))\n",
        "            return self.best\n",
        "        elif mode == 'max':\n",
        "            self.best = self.best_series[np.argmax(self.best_series)]\n",
        "            if verbose: print(\n",
        "                \"ACO fitted.  Runtime: {} minutes.  Best score: {}\".format(self.fit_time // 60, self.best))\n",
        "            return self.best\n",
        "        else:\n",
        "            raise ValueError(\"Invalid mode!  Choose 'min' or 'max'.\")\n",
        "\n",
        "    def plot(self):\n",
        "        \"\"\"\n",
        "        Plots the score over time after the model has been fitted.\n",
        "        :return: None if the model isn't fitted yet\n",
        "        \"\"\"\n",
        "        if not self.fitted:\n",
        "            print(\"Ant Colony Optimizer not fitted!  There exists nothing to plot.\")\n",
        "            return None\n",
        "        else:\n",
        "            fig, ax = plt.subplots(figsize=(20, 15))\n",
        "            ax.plot(self.best_series, label=\"Best Run\")\n",
        "            ax.set_xlabel(\"Iteration\")\n",
        "            ax.set_ylabel(\"Performance\")\n",
        "            ax.text(.8, .6,\n",
        "                    'Ants: {}\\nEvap Rate: {}\\nIntensify: {}\\nAlpha: {}\\nBeta: {}\\nBeta Evap: {}\\nChoose Best: {}\\n\\nFit Time: {}m{}'.format(\n",
        "                        self.ants, self.evaporation_rate, self.pheromone_intensification, self.heuristic_alpha,\n",
        "                        self.heuristic_beta, self.beta_evaporation_rate, self.choose_best, self.fit_time // 60,\n",
        "                        [\"\\nStopped Early!\" if self.stopped_early else \"\"][0]),\n",
        "                    bbox={'facecolor': 'gray', 'alpha': 0.8, 'pad': 10}, transform=ax.transAxes)\n",
        "            ax.legend()\n",
        "            plt.title(\"Ant Colony Optimization Results (best: {})\".format(np.round(self.best, 2)))\n",
        "            plt.show()"
      ]
    },
    {
      "cell_type": "code",
      "source": [
        "from google.colab import files\n",
        "from google.colab import drive\n",
        "drive.mount('/content/drive')"
      ],
      "metadata": {
        "colab": {
          "base_uri": "https://localhost:8080/"
        },
        "id": "2BEV3eF9GJd1",
        "outputId": "da5b615c-a82d-4b61-f7f0-70afd42cf6bb"
      },
      "id": "2BEV3eF9GJd1",
      "execution_count": null,
      "outputs": [
        {
          "output_type": "stream",
          "name": "stdout",
          "text": [
            "Mounted at /content/drive\n"
          ]
        }
      ]
    },
    {
      "cell_type": "markdown",
      "source": [
        "###Fuentes\n",
        "Los datos de distancia entre ciudades y tiempo aproximado de viaje fueron obtenidos de la pagina http://co.lasdistancias.net\n",
        "\n",
        "Los datos de costo de los  peajes fueron obtenidos de dos paginas:\n",
        "https://www.peajesencolombia.com y https://viajaporcolombia.com/peajes\n"
      ],
      "metadata": {
        "id": "3XSA3F8U0QdL"
      },
      "id": "3XSA3F8U0QdL"
    },
    {
      "cell_type": "code",
      "source": [
        "##Se importa el data frame del tiempo de viaje entre ciudades\n",
        "import pandas as pd\n",
        "TdeV = pd.read_excel(\"/content/drive/MyDrive/Colab Notebooks/Tiempo de viaje entre ciudades.xlsx\", header=None)\n",
        "TdeV = TdeV.to_numpy()\n",
        "\n",
        "##SE importa el data frame del costo de los peajes entre ciudades \n",
        "Cpeajes = pd.read_excel(\"/content/drive/MyDrive/Colab Notebooks/costo peajes entre ciudades.xlsx\", header=None)\n",
        "Cpeajes = Cpeajes.to_numpy()\n",
        "\n",
        "##Se importa el data frame de ls distancia entre las ciudades\n",
        "Dist = pd.read_excel(\"/content/drive/MyDrive/Colab Notebooks/Distancia entre ciudades.xlsx\", header = None)\n",
        "Dist = Dist.to_numpy()\n"
      ],
      "metadata": {
        "id": "rHR0lUiPOsL-"
      },
      "id": "rHR0lUiPOsL-",
      "execution_count": null,
      "outputs": []
    },
    {
      "cell_type": "code",
      "source": [
        "##se multiplica la matriz por el costo del combustible por hora suponiendo que el carro es una camioneta renault orosch que tiene una autonomia de 13.7 Km/l.\n",
        "Combustible = 13.7*Dist\n",
        "##Se multiplica la matriz del combustible consumido por el costo promedio de un litro de gasolina corriente:COP 2,844.080 \n",
        "Combustible = Combustible*2844.080\n"
      ],
      "metadata": {
        "id": "JPkoo_4vXNhK"
      },
      "id": "JPkoo_4vXNhK",
      "execution_count": null,
      "outputs": []
    },
    {
      "cell_type": "code",
      "source": [
        "##Se multiplica el tiempo estimado de viaje por el costo de la hora de trabajo en el salario minimo: COP 4833\n",
        "TdeV = TdeV*4833"
      ],
      "metadata": {
        "id": "igpKWEN6xwho"
      },
      "id": "igpKWEN6xwho",
      "execution_count": null,
      "outputs": []
    },
    {
      "cell_type": "code",
      "source": [
        "##Se suman los tres arreglos para optener la matriz del costo total del viaje entre ciudades\n",
        "Total = TdeV+Combustible+Cpeajes\n"
      ],
      "metadata": {
        "id": "qlpCIneiyahw"
      },
      "id": "qlpCIneiyahw",
      "execution_count": null,
      "outputs": []
    },
    {
      "cell_type": "markdown",
      "source": [
        "###Lista de Ciudades\n",
        "0: Palmira\n",
        "\n",
        "1:Pasto\n",
        "\n",
        "2: Tuluá\n",
        "\n",
        "3: Bogotá\n",
        "\n",
        "4: pereira\n",
        "\n",
        "5: Armenia\n",
        "\n",
        "6: Manizales\n",
        "\n",
        "7: Valledupar\n",
        "\n",
        "8: Montería\n",
        "\n",
        "9: Soledad\n",
        "\n",
        "10: Cartagena\n",
        "\n",
        "11: Barranquilla\n",
        "\n",
        "12: Medellín\n",
        "\n",
        "13: Bucaramanga\n",
        "\n",
        "14: Cucuta"
      ],
      "metadata": {
        "id": "ge6TgVwk1GpJ"
      },
      "id": "ge6TgVwk1GpJ"
    },
    {
      "cell_type": "code",
      "execution_count": null,
      "id": "a749d7b4-9f31-4244-951b-80ec7766634f",
      "metadata": {
        "id": "a749d7b4-9f31-4244-951b-80ec7766634f",
        "outputId": "0418ab86-8918-48cd-8540-644564fc1440",
        "colab": {
          "base_uri": "https://localhost:8080/",
          "height": 1000
        }
      },
      "outputs": [
        {
          "output_type": "stream",
          "name": "stdout",
          "text": [
            "Beginning ACO Optimization with 100 iterations...\n",
            "Best score at iteration 0: 143343824.39; overall: 143343824.39 (0s)\n",
            "Best score at iteration 1: 151554800.05; overall: 143343824.39 (0s)\n",
            "Best score at iteration 2: 129213692.76; overall: 129213692.76 (0s)\n",
            "Best score at iteration 3: 141531512.78; overall: 129213692.76 (0s)\n",
            "Best score at iteration 4: 129213692.76; overall: 129213692.76 (0s)\n",
            "Best score at iteration 5: 127722079.62; overall: 127722079.62 (0s)\n",
            "Best score at iteration 6: 139563676.92; overall: 127722079.62 (0s)\n",
            "Best score at iteration 7: 132947922.15; overall: 127722079.62 (0s)\n",
            "Best score at iteration 8: 140723401.14; overall: 127722079.62 (0s)\n",
            "Best score at iteration 9: 126698595.95; overall: 126698595.95 (0s)\n",
            "Best score at iteration 10: 133374106.95; overall: 126698595.95 (0s)\n",
            "Best score at iteration 11: 135955375.34; overall: 126698595.95 (0s)\n",
            "Best score at iteration 12: 121960816.46; overall: 121960816.46 (0s)\n",
            "Best score at iteration 13: 120687558.29; overall: 120687558.29 (0s)\n",
            "Best score at iteration 14: 127028122.91; overall: 120687558.29 (0s)\n",
            "Best score at iteration 15: 127519405.75; overall: 120687558.29 (0s)\n",
            "Best score at iteration 16: 126091267.13; overall: 120687558.29 (0s)\n",
            "Best score at iteration 17: 124439019.87; overall: 120687558.29 (0s)\n",
            "Best score at iteration 18: 126091267.13; overall: 120687558.29 (0s)\n",
            "Best score at iteration 19: 116002480.38; overall: 116002480.38 (0s)\n",
            "Best score at iteration 20: 113123329.08; overall: 113123329.08 (0s)\n",
            "Best score at iteration 21: 113888382.6; overall: 113123329.08 (0s)\n",
            "Best score at iteration 22: 118128772.1; overall: 113123329.08 (0s)\n",
            "Best score at iteration 23: 106112031.14; overall: 106112031.14 (0s)\n",
            "Best score at iteration 24: 105941431.51; overall: 105941431.51 (0s)\n",
            "Best score at iteration 25: 105437172.09; overall: 105437172.09 (0s)\n",
            "Best score at iteration 26: 106112031.14; overall: 105437172.09 (0s)\n",
            "Best score at iteration 27: 105941431.51; overall: 105437172.09 (0s)\n",
            "Best score at iteration 28: 105941431.51; overall: 105437172.09 (0s)\n",
            "Best score at iteration 29: 105437172.09; overall: 105437172.09 (0s)\n",
            "Best score at iteration 30: 106112031.14; overall: 105437172.09 (0s)\n",
            "Best score at iteration 31: 105437172.09; overall: 105437172.09 (0s)\n",
            "Best score at iteration 32: 105941431.51; overall: 105437172.09 (0s)\n",
            "Best score at iteration 33: 105266572.45; overall: 105266572.45 (0s)\n",
            "Best score at iteration 34: 105941431.51; overall: 105266572.45 (0s)\n",
            "Best score at iteration 35: 105266572.45; overall: 105266572.45 (0s)\n",
            "Best score at iteration 36: 104012350.04; overall: 104012350.04 (0s)\n",
            "Best score at iteration 37: 101633017.91; overall: 101633017.91 (0s)\n",
            "Best score at iteration 38: 101633017.91; overall: 101633017.91 (0s)\n",
            "Best score at iteration 39: 101633017.91; overall: 101633017.91 (0s)\n",
            "Best score at iteration 40: 101633017.91; overall: 101633017.91 (0s)\n",
            "Best score at iteration 41: 101633017.91; overall: 101633017.91 (0s)\n",
            "Best score at iteration 42: 101633017.91; overall: 101633017.91 (0s)\n",
            "Best score at iteration 43: 101633017.91; overall: 101633017.91 (0s)\n",
            "Best score at iteration 44: 101633017.91; overall: 101633017.91 (0s)\n",
            "Best score at iteration 45: 101633017.91; overall: 101633017.91 (0s)\n",
            "Best score at iteration 46: 101633017.91; overall: 101633017.91 (0s)\n",
            "Best score at iteration 47: 101633017.91; overall: 101633017.91 (0s)\n",
            "Best score at iteration 48: 101633017.91; overall: 101633017.91 (0s)\n",
            "Best score at iteration 49: 101633017.91; overall: 101633017.91 (0s)\n",
            "Best score at iteration 50: 101633017.91; overall: 101633017.91 (0s)\n",
            "Best score at iteration 51: 101633017.91; overall: 101633017.91 (0s)\n",
            "Best score at iteration 52: 101633017.91; overall: 101633017.91 (0s)\n",
            "Best score at iteration 53: 101633017.91; overall: 101633017.91 (0s)\n",
            "Best score at iteration 54: 101633017.91; overall: 101633017.91 (0s)\n",
            "Best score at iteration 55: 101633017.91; overall: 101633017.91 (0s)\n",
            "Best score at iteration 56: 101633017.91; overall: 101633017.91 (0s)\n",
            "Best score at iteration 57: 101633017.91; overall: 101633017.91 (0s)\n",
            "Best score at iteration 58: 101633017.91; overall: 101633017.91 (0s)\n",
            "Best score at iteration 59: 101633017.91; overall: 101633017.91 (0s)\n",
            "Best score at iteration 60: 101633017.91; overall: 101633017.91 (0s)\n",
            "Best score at iteration 61: 101633017.91; overall: 101633017.91 (0s)\n",
            "Best score at iteration 62: 101633017.91; overall: 101633017.91 (0s)\n",
            "Best score at iteration 63: 101633017.91; overall: 101633017.91 (0s)\n",
            "Best score at iteration 64: 101633017.91; overall: 101633017.91 (0s)\n",
            "Best score at iteration 65: 101633017.91; overall: 101633017.91 (0s)\n",
            "Best score at iteration 66: 101633017.91; overall: 101633017.91 (0s)\n",
            "Best score at iteration 67: 101633017.91; overall: 101633017.91 (0s)\n",
            "Best score at iteration 68: 101633017.91; overall: 101633017.91 (0s)\n",
            "Best score at iteration 69: 101633017.91; overall: 101633017.91 (0s)\n",
            "Best score at iteration 70: 101633017.91; overall: 101633017.91 (0s)\n",
            "Best score at iteration 71: 101633017.91; overall: 101633017.91 (0s)\n",
            "Best score at iteration 72: 101633017.91; overall: 101633017.91 (0s)\n",
            "Best score at iteration 73: 101633017.91; overall: 101633017.91 (0s)\n",
            "Best score at iteration 74: 101633017.91; overall: 101633017.91 (0s)\n",
            "Best score at iteration 75: 101633017.91; overall: 101633017.91 (0s)\n",
            "Best score at iteration 76: 101633017.91; overall: 101633017.91 (0s)\n",
            "Best score at iteration 77: 101633017.91; overall: 101633017.91 (0s)\n",
            "Best score at iteration 78: 101633017.91; overall: 101633017.91 (0s)\n",
            "Best score at iteration 79: 101633017.91; overall: 101633017.91 (0s)\n",
            "Best score at iteration 80: 101633017.91; overall: 101633017.91 (0s)\n",
            "Best score at iteration 81: 101633017.91; overall: 101633017.91 (0s)\n",
            "Best score at iteration 82: 101633017.91; overall: 101633017.91 (0s)\n",
            "Best score at iteration 83: 101633017.91; overall: 101633017.91 (0s)\n",
            "Best score at iteration 84: 101633017.91; overall: 101633017.91 (0s)\n",
            "Best score at iteration 85: 101633017.91; overall: 101633017.91 (0s)\n",
            "Best score at iteration 86: 101633017.91; overall: 101633017.91 (0s)\n",
            "Stopping early due to 20 iterations of the same score.\n",
            "ACO fitted.  Runtime: 0 minutes.  Best score: 101633017.91193098\n"
          ]
        },
        {
          "output_type": "display_data",
          "data": {
            "text/plain": [
              "<Figure size 1440x1080 with 1 Axes>"
            ],
            "image/png": "[encoded data removed]"
          },
          "metadata": {
            "needs_background": "light"
          }
        }
      ],
      "source": [
        "problem = Total\n",
        "optimizer = AntColonyOptimizer(ants=10, evaporation_rate=.1, intensification=2, alpha=1, beta=1,\n",
        "                               beta_evaporation_rate=0, choose_best=.1)\n",
        " \n",
        "best = optimizer.fit(problem, 100)\n",
        "optimizer.plot()"
      ]
    },
    {
      "cell_type": "code",
      "execution_count": null,
      "id": "c18c34c2-7170-4767-be8f-35e8e4551b93",
      "metadata": {
        "id": "c18c34c2-7170-4767-be8f-35e8e4551b93",
        "outputId": "1b4f702e-038f-4b04-f259-100814f928ce",
        "colab": {
          "base_uri": "https://localhost:8080/"
        }
      },
      "outputs": [
        {
          "output_type": "execute_result",
          "data": {
            "text/plain": [
              "[0, 1, 3, 13, 14, 7, 9, 11, 10, 8, 12, 6, 4, 5, 2, 0]"
            ]
          },
          "metadata": {},
          "execution_count": 8
        }
      ],
      "source": [
        "optimizer.best_path"
      ]
    },
    {
      "cell_type": "code",
      "execution_count": null,
      "id": "cdfa1de9-8f28-499b-b236-430f55ce31c9",
      "metadata": {
        "id": "cdfa1de9-8f28-499b-b236-430f55ce31c9",
        "colab": {
          "base_uri": "https://localhost:8080/"
        },
        "outputId": "b65a6d6b-8e05-4751-90cd-71cbc3cb18c4"
      },
      "outputs": [
        {
          "output_type": "stream",
          "name": "stdout",
          "text": [
            "Looking in indexes: https://pypi.org/simple, https://us-python.pkg.dev/colab-wheels/public/simple/\n",
            "Collecting pygad\n",
            "  Downloading pygad-2.19.2-py3-none-any.whl (61 kB)\n",
            "\u001b[2K     \u001b[90m━━━━━━━━━━━━━━━━━━━━━━━━━━━━━━━━━━━━━━━━\u001b[0m \u001b[32m61.7/61.7 KB\u001b[0m \u001b[31m1.8 MB/s\u001b[0m eta \u001b[36m0:00:00\u001b[0m\n",
            "\u001b[?25hRequirement already satisfied: numpy in /usr/local/lib/python3.9/dist-packages (from pygad) (1.22.4)\n",
            "Requirement already satisfied: cloudpickle in /usr/local/lib/python3.9/dist-packages (from pygad) (2.2.1)\n",
            "Requirement already satisfied: matplotlib in /usr/local/lib/python3.9/dist-packages (from pygad) (3.7.1)\n",
            "Requirement already satisfied: cycler>=0.10 in /usr/local/lib/python3.9/dist-packages (from matplotlib->pygad) (0.11.0)\n",
            "Requirement already satisfied: packaging>=20.0 in /usr/local/lib/python3.9/dist-packages (from matplotlib->pygad) (23.0)\n",
            "Requirement already satisfied: pillow>=6.2.0 in /usr/local/lib/python3.9/dist-packages (from matplotlib->pygad) (8.4.0)\n",
            "Requirement already satisfied: importlib-resources>=3.2.0 in /usr/local/lib/python3.9/dist-packages (from matplotlib->pygad) (5.12.0)\n",
            "Requirement already satisfied: contourpy>=1.0.1 in /usr/local/lib/python3.9/dist-packages (from matplotlib->pygad) (1.0.7)\n",
            "Requirement already satisfied: kiwisolver>=1.0.1 in /usr/local/lib/python3.9/dist-packages (from matplotlib->pygad) (1.4.4)\n",
            "Requirement already satisfied: fonttools>=4.22.0 in /usr/local/lib/python3.9/dist-packages (from matplotlib->pygad) (4.39.0)\n",
            "Requirement already satisfied: python-dateutil>=2.7 in /usr/local/lib/python3.9/dist-packages (from matplotlib->pygad) (2.8.2)\n",
            "Requirement already satisfied: pyparsing>=2.3.1 in /usr/local/lib/python3.9/dist-packages (from matplotlib->pygad) (3.0.9)\n",
            "Requirement already satisfied: zipp>=3.1.0 in /usr/local/lib/python3.9/dist-packages (from importlib-resources>=3.2.0->matplotlib->pygad) (3.15.0)\n",
            "Requirement already satisfied: six>=1.5 in /usr/local/lib/python3.9/dist-packages (from python-dateutil>=2.7->matplotlib->pygad) (1.15.0)\n",
            "Installing collected packages: pygad\n",
            "Successfully installed pygad-2.19.2\n"
          ]
        }
      ],
      "source": [
        "!pip install pygad"
      ]
    },
    {
      "cell_type": "code",
      "source": [
        "import pygad\n",
        "\n",
        "# Matriz de distancias\n",
        "distance_matrix = Total\n",
        "gene_space = [x for x in range(15)]\n",
        "\n",
        "# Función de aptitud para TSP\n",
        "def tsp_fitness(solution, solution_idx):\n",
        "    fitness = 0\n",
        "    for i in range(len(solution)):\n",
        "        fitness += distance_matrix[int(solution[i-1])][int(solution[i])]\n",
        "    return 1/fitness\n",
        "\n",
        "# Configuración de la optimización genética\n",
        "ga_instance = pygad.GA(num_generations=500, \n",
        "                       sol_per_pop=50, \n",
        "                       num_genes=len(distance_matrix), \n",
        "                       fitness_func=tsp_fitness,\n",
        "                       crossover_type=\"two_points\",\n",
        "                       mutation_type=\"swap\",\n",
        "                       num_parents_mating=25,\n",
        "                       parent_selection_type = \"tournament\",\n",
        "                       gene_space=gene_space,\n",
        "                       allow_duplicate_genes=False,\n",
        "                       mutation_percent_genes=5)\n",
        "\n",
        "# Ejecutar la optimización\n",
        "ga_instance.run()\n",
        "\n",
        "# Obtener la mejor solución encontrada\n",
        "solution, solution_fitness, solution_idx = ga_instance.best_solution()\n",
        "print(\"La mejor solución encontrada es:\", solution)\n",
        "print(\"Con un costo total de:\", solution_fitness)"
      ],
      "metadata": {
        "colab": {
          "base_uri": "https://localhost:8080/"
        },
        "id": "9_-ulo5W5zGI",
        "outputId": "5bdf0203-63b9-4012-fcb9-cca7a12117df"
      },
      "id": "9_-ulo5W5zGI",
      "execution_count": null,
      "outputs": [
        {
          "output_type": "stream",
          "name": "stdout",
          "text": [
            "La mejor solución encontrada es: [ 9.  8. 12.  2.  0.  1.  4.  5.  6.  3. 13. 14.  7. 10. 11.]\n",
            "Con una distancia total de: 8.794711232203361e-09\n"
          ]
        }
      ]
    },
    {
      "cell_type": "code",
      "source": [
        "suma = 0\n",
        "for i in range(1,len(solution)):\n",
        "  a = int(solution[i-1])\n",
        "  b = int(solution[i])\n",
        "  suma += Total[a][b]\n",
        "\n",
        "suma += Total[int(solution[-1])][int(solution[0])]\n",
        "print(suma)"
      ],
      "metadata": {
        "colab": {
          "base_uri": "https://localhost:8080/"
        },
        "id": "7DoWhpNk56_o",
        "outputId": "8daa3970-a590-4618-934e-a8621c9b9c0d"
      },
      "id": "7DoWhpNk56_o",
      "execution_count": null,
      "outputs": [
        {
          "output_type": "stream",
          "name": "stdout",
          "text": [
            "113704699.744811\n"
          ]
        }
      ]
    }
  ],
  "metadata": {
    "kernelspec": {
      "display_name": "Python 3 (ipykernel)",
      "language": "python",
      "name": "python3"
    },
    "language_info": {
      "codemirror_mode": {
        "name": "ipython",
        "version": 3
      },
      "file_extension": ".py",
      "mimetype": "text/x-python",
      "name": "python",
      "nbconvert_exporter": "python",
      "pygments_lexer": "ipython3",
      "version": "3.9.12"
    },
    "colab": {
      "provenance": []
    }
  },
  "nbformat": 4,
  "nbformat_minor": 5
}